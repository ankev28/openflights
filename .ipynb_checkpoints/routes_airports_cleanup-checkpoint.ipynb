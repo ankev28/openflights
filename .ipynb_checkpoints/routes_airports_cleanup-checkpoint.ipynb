{
 "cells": [
  {
   "cell_type": "code",
   "execution_count": 2,
   "metadata": {
    "collapsed": false
   },
   "outputs": [
    {
     "name": "stdout",
     "output_type": "stream",
     "text": [
      "7698\n"
     ]
    }
   ],
   "source": [
    "dog = open(\"airports.dat\")\n",
    "airportlist = []\n",
    "\n",
    "for cat in dog:\n",
    "    quang = cat.replace('\"', '').split(\",\")\n",
    "    offset = len(quang) - 14 #usually 13 elements each line when split\n",
    "    #print(quang)\n",
    "    appendvalue = quang[0]\n",
    "    appendvalue = appendvalue + \" \" + quang[6 + offset] + \" \" + quang[7+offset]\n",
    "    if (quang[4+offset] != \"\\\\N\"):\n",
    "        appendvalue = appendvalue + \" \" + quang[4+offset]\n",
    "    if (quang[5+offset] != \"\\\\N\"):\n",
    "        appendvalue = appendvalue + \" \" + quang[5 + offset]\n",
    "        \n",
    "    airportlist.append(appendvalue)\n",
    "\n",
    "    \n",
    "print(len(airportlist))  \n",
    "    \n",
    "newwrite = open(\"IATA_clean.txt\", \"w\")\n",
    "for cat in airportlist:\n",
    "    #print(cat)\n",
    "    newwrite.write(cat + \"\\n\")\n",
    "newwrite.close()"
   ]
  },
  {
   "cell_type": "code",
   "execution_count": null,
   "metadata": {
    "collapsed": false
   },
   "outputs": [],
   "source": [
    "dog = open(\"routes.dat\")\n",
    "airportroutes = []\n",
    "removed = 0\n",
    "for cat in dog:\n",
    "    quang = cat.split(\",\")\n",
    "    if (quang[3]!=\"\\\\N\" and quang[5]!=\"\\\\N\"):\n",
    "        airportroutes.append(quang[3] + \" \" + quang[5]) #quang[3] = source id, quang[5] = dest id\n",
    "    else:\n",
    "        removed = removed + 1\n",
    "    \n",
    "print(len(airportroutes))\n",
    "print(removed)\n",
    "#print(airportroutes)    \n",
    "    \n",
    "newwrite = open(\"ROUTES_clean.txt\", \"w\")\n",
    "for cat in airportroutes:\n",
    "    #print(cat)\n",
    "    newwrite.write(cat + \"\\n\")\n",
    "newwrite.close()"
   ]
  },
  {
   "cell_type": "code",
   "execution_count": null,
   "metadata": {
    "collapsed": true
   },
   "outputs": [],
   "source": []
  }
 ],
 "metadata": {
  "kernelspec": {
   "display_name": "Python 2",
   "language": "python",
   "name": "python2"
  },
  "language_info": {
   "codemirror_mode": {
    "name": "ipython",
    "version": 2
   },
   "file_extension": ".py",
   "mimetype": "text/x-python",
   "name": "python",
   "nbconvert_exporter": "python",
   "pygments_lexer": "ipython2",
   "version": "2.7.10"
  }
 },
 "nbformat": 4,
 "nbformat_minor": 0
}
